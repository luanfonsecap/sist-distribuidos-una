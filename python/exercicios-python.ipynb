{
 "cells": [
  {
   "cell_type": "markdown",
   "metadata": {},
   "source": [
    "# Exercícios"
   ]
  },
  {
   "cell_type": "markdown",
   "metadata": {},
   "source": [
    "1. Escreva um algoritmo que imprima na tela: Olá Mundo!"
   ]
  },
  {
   "cell_type": "code",
   "execution_count": 3,
   "metadata": {},
   "outputs": [
    {
     "name": "stdout",
     "output_type": "stream",
     "text": [
      "Olá mundo!\n"
     ]
    }
   ],
   "source": [
    "print(\"Olá mundo!\")"
   ]
  },
  {
   "cell_type": "markdown",
   "metadata": {},
   "source": [
    "2. Escreva um programa que imprima seu nome na tela."
   ]
  },
  {
   "cell_type": "code",
   "execution_count": 4,
   "metadata": {},
   "outputs": [
    {
     "name": "stdout",
     "output_type": "stream",
     "text": [
      "\n"
     ]
    }
   ],
   "source": [
    "nome = input(\"Qual é seu nome?\")\n",
    "print(nome)"
   ]
  },
  {
   "cell_type": "markdown",
   "metadata": {},
   "source": [
    "3. O que o código a seguir imprime?\n",
    "\n",
    "```python\n",
    "print(\"*\\n**\\n***\\n****\\n*****\")\n",
    "```"
   ]
  },
  {
   "cell_type": "code",
   "execution_count": 5,
   "metadata": {},
   "outputs": [
    {
     "name": "stdout",
     "output_type": "stream",
     "text": [
      "*\n",
      "**\n",
      "***\n",
      "****\n",
      "*****\n"
     ]
    }
   ],
   "source": [
    "print(\"*\\n**\\n***\\n****\\n*****\")\n",
    "# imprime uma metade de uma \"árvore\". De cinco linhas, que começa com um * e termina com 5 *"
   ]
  },
  {
   "cell_type": "markdown",
   "metadata": {},
   "source": [
    "4. O que aparece na janela do console, quando cada uma das instruções abaixo são executadas, para: x = 2 e y = 3? Execute cada uma das linhas abaixos e, se necessário, faça os devidos ajustes no código.\n",
    "    1. *print(“x = ” + x);*\n",
    "    2. *print(“O valor de x + x é ” + (x + x));*\n",
    "    3. *print(“x = ”);*\n",
    "    4. *print((x + y) + “ = “ + (y + x));*\n"
   ]
  },
  {
   "cell_type": "code",
   "execution_count": 6,
   "metadata": {},
   "outputs": [
    {
     "name": "stdout",
     "output_type": "stream",
     "text": [
      "x =  2\n",
      "O valor de x + x é  4\n",
      "x = \n",
      "5 = 5\n"
     ]
    }
   ],
   "source": [
    "x = 2 \n",
    "y = 3 \n",
    "\n",
    "# 1. TypeError: can only concatenate str (not \"int\") to str\n",
    "print(\"x = \", x)\n",
    "        \n",
    "# 2. TypeError: can only concatenate str (not \"int\") to str\n",
    "print(\"O valor de x + x é \", (x + x))\n",
    "\n",
    "# 3. x =\n",
    "print(\"x = \")\n",
    "# 4. SyntaxError: invalid character '“' (U+201C)\n",
    "print((x + y), \"=\", (y + x))"
   ]
  },
  {
   "cell_type": "markdown",
   "metadata": {},
   "source": [
    "5. Escreva um algoritmo que imprima na tela a seguinte mensagem:\n",
    "\n",
    "> A programação é aprendida escrevendo programas - \n",
    "> Brian Kernighan\n"
   ]
  },
  {
   "cell_type": "code",
   "execution_count": 7,
   "metadata": {},
   "outputs": [
    {
     "name": "stdout",
     "output_type": "stream",
     "text": [
      "A programação é aprendida escrevendo programas - Brian Kernighan\n"
     ]
    }
   ],
   "source": [
    "def mensagem():\n",
    "    print(\"A programação é aprendida escrevendo programas - Brian Kernighan\")\n",
    "\n",
    "mensagem()"
   ]
  },
  {
   "cell_type": "markdown",
   "metadata": {},
   "source": [
    "6. Crie um algoritmo que imprima o produto entre os números 25 e 27"
   ]
  },
  {
   "cell_type": "code",
   "execution_count": 8,
   "metadata": {},
   "outputs": [
    {
     "data": {
      "text/plain": [
       "675"
      ]
     },
     "execution_count": 8,
     "metadata": {},
     "output_type": "execute_result"
    }
   ],
   "source": [
    "def produto():\n",
    "    return 25*27\n",
    "\n",
    "produto()"
   ]
  },
  {
   "cell_type": "markdown",
   "metadata": {},
   "source": [
    "7. Crie um algoritmo que imprima a média aritmética entre os números 4, 12, 15."
   ]
  },
  {
   "cell_type": "code",
   "execution_count": 9,
   "metadata": {},
   "outputs": [
    {
     "name": "stdout",
     "output_type": "stream",
     "text": [
      "10.333333333333334\n"
     ]
    }
   ],
   "source": [
    "media_aritmética = (4+12+15)/3\n",
    "print(media_aritmética)"
   ]
  },
  {
   "cell_type": "markdown",
   "metadata": {},
   "source": [
    "8. Faça um programa que leia um número inteiro e mostre-o na tela da seguinte forma: \n",
    "\n",
    "> O número inteiro digitado foi 4."
   ]
  },
  {
   "cell_type": "code",
   "execution_count": 10,
   "metadata": {},
   "outputs": [
    {
     "ename": "ValueError",
     "evalue": "invalid literal for int() with base 10: ''",
     "output_type": "error",
     "traceback": [
      "\u001b[0;31m---------------------------------------------------------------------------\u001b[0m",
      "\u001b[0;31mValueError\u001b[0m                                Traceback (most recent call last)",
      "Input \u001b[0;32mIn [10]\u001b[0m, in \u001b[0;36m<cell line: 1>\u001b[0;34m()\u001b[0m\n\u001b[0;32m----> 1\u001b[0m num \u001b[38;5;241m=\u001b[39m \u001b[38;5;28;43mint\u001b[39;49m\u001b[43m(\u001b[49m\u001b[38;5;28;43minput\u001b[39;49m\u001b[43m(\u001b[49m\u001b[38;5;124;43m'\u001b[39;49m\u001b[38;5;124;43mDigite um número: \u001b[39;49m\u001b[38;5;124;43m'\u001b[39;49m\u001b[43m)\u001b[49m\u001b[43m)\u001b[49m\n\u001b[1;32m      2\u001b[0m \u001b[38;5;28mprint\u001b[39m(num)\n",
      "\u001b[0;31mValueError\u001b[0m: invalid literal for int() with base 10: ''"
     ]
    }
   ],
   "source": [
    "num = int(input('Digite um número: '))\n",
    "print(num)"
   ]
  },
  {
   "cell_type": "markdown",
   "metadata": {},
   "source": [
    "9. Faça um programa que leia e imprima dois números inteiros na tela."
   ]
  },
  {
   "cell_type": "code",
   "execution_count": null,
   "metadata": {},
   "outputs": [
    {
     "name": "stdout",
     "output_type": "stream",
     "text": [
      "Você digitou os respectivos números 2 e 3 \n"
     ]
    }
   ],
   "source": [
    "num = int(input('Digite o primeiro número: '))\n",
    "num2 = int(input('Digite o segundo número: '))\n",
    "\n",
    "print(f'Você digitou os respectivos números {num} e {num2} ' )"
   ]
  },
  {
   "cell_type": "markdown",
   "metadata": {},
   "source": [
    "10. Faça um programa que leia um número inteiro e imprima seu número sucessor e antecessor."
   ]
  },
  {
   "cell_type": "code",
   "execution_count": null,
   "metadata": {},
   "outputs": [
    {
     "name": "stdout",
     "output_type": "stream",
     "text": [
      "Você digitou o número 3 e seu sucessor é 4 e o seu antecessor é 2 \n"
     ]
    }
   ],
   "source": [
    "num = int(input('Digite um número: '))\n",
    "print(f'Você digitou o número {num} e seu sucessor é {num+1} e o seu antecessor é {num-1} ' )"
   ]
  },
  {
   "cell_type": "markdown",
   "metadata": {},
   "source": [
    "11. Faça um programa que leia o nome, endereço e telefone de um usuário e imprima na tela."
   ]
  },
  {
   "cell_type": "code",
   "execution_count": null,
   "metadata": {},
   "outputs": [
    {
     "name": "stdout",
     "output_type": "stream",
     "text": [
      "Seu nome é , seu endereço é 3 e o seu telefone é .\n"
     ]
    }
   ],
   "source": [
    "nome = input(\"Digite seu nome: \")\n",
    "\n",
    "endereço = input(\"Digite seu endereço: \")\n",
    "\n",
    "telefone = input(\"Digite seu telefone: \")\n",
    "\n",
    "print(f'Seu nome é {nome}, seu endereço é {endereço} e o seu telefone é {telefone}.')"
   ]
  },
  {
   "cell_type": "markdown",
   "metadata": {},
   "source": [
    "12. Faça um programa que leia e multiplique dois números inteiros."
   ]
  },
  {
   "cell_type": "code",
   "execution_count": null,
   "metadata": {},
   "outputs": [
    {
     "ename": "ValueError",
     "evalue": "invalid literal for int() with base 10: ''",
     "output_type": "error",
     "traceback": [
      "\u001b[0;31m---------------------------------------------------------------------------\u001b[0m",
      "\u001b[0;31mValueError\u001b[0m                                Traceback (most recent call last)",
      "Input \u001b[0;32mIn [12]\u001b[0m, in \u001b[0;36m<cell line: 1>\u001b[0;34m()\u001b[0m\n\u001b[0;32m----> 1\u001b[0m num \u001b[38;5;241m=\u001b[39m \u001b[38;5;28;43mint\u001b[39;49m\u001b[43m(\u001b[49m\u001b[38;5;28;43minput\u001b[39;49m\u001b[43m(\u001b[49m\u001b[38;5;124;43m'\u001b[39;49m\u001b[38;5;124;43mDigite o primeiro número: \u001b[39;49m\u001b[38;5;124;43m'\u001b[39;49m\u001b[43m)\u001b[49m\u001b[43m)\u001b[49m\n\u001b[1;32m      2\u001b[0m num2 \u001b[38;5;241m=\u001b[39m \u001b[38;5;28mint\u001b[39m(\u001b[38;5;28minput\u001b[39m(\u001b[38;5;124m'\u001b[39m\u001b[38;5;124mDigite o segundo número: \u001b[39m\u001b[38;5;124m'\u001b[39m))\n\u001b[1;32m      4\u001b[0m \u001b[38;5;28mprint\u001b[39m(\u001b[38;5;124mf\u001b[39m\u001b[38;5;124m'\u001b[39m\u001b[38;5;132;01m{\u001b[39;00mnum \u001b[38;5;241m*\u001b[39m num2\u001b[38;5;132;01m}\u001b[39;00m\u001b[38;5;124m \u001b[39m\u001b[38;5;124m'\u001b[39m )\n",
      "\u001b[0;31mValueError\u001b[0m: invalid literal for int() with base 10: ''"
     ]
    }
   ],
   "source": [
    "num = int(input('Digite o primeiro número: '))\n",
    "num2 = int(input('Digite o segundo número: '))\n",
    "\n",
    "print(f'{num * num2} ' )"
   ]
  },
  {
   "cell_type": "markdown",
   "metadata": {},
   "source": [
    "13. Faça um programa que leia um número real e imprima a terça parte deste número."
   ]
  },
  {
   "cell_type": "code",
   "execution_count": null,
   "metadata": {},
   "outputs": [
    {
     "name": "stdout",
     "output_type": "stream",
     "text": [
      "2.0 \n"
     ]
    }
   ],
   "source": [
    "num = int(input('Digite um número: '))\n",
    "print(f'{num/3} ' )"
   ]
  },
  {
   "cell_type": "markdown",
   "metadata": {},
   "source": [
    "14. Faça um programa que leia dois números inteiros e imprima o dividendo, divisor, quociente e resto da divisão"
   ]
  },
  {
   "cell_type": "code",
   "execution_count": null,
   "metadata": {},
   "outputs": [
    {
     "name": "stdout",
     "output_type": "stream",
     "text": [
      "Dividendo:  5\n",
      "Divisor:  3\n",
      "Quociente:  1\n",
      "Resto:  2\n"
     ]
    }
   ],
   "source": [
    "def divisao(num1, num2):\n",
    "    print('Dividendo: ',num1)\n",
    "    print('Divisor: ',num2)\n",
    "    print('Quociente: ',num1//num2)\n",
    "    print('Resto: ',num1%num2)\n",
    "    \n",
    "num1 = int(input('Digite um número: '))\n",
    "num2 = int(input('Digite outro numero: '))\n",
    "\n",
    "divisao(num1, num2)"
   ]
  },
  {
   "cell_type": "markdown",
   "metadata": {},
   "source": [
    "15. Escreva um programa que solicite do usuário dois números, e imprima o resultado da soma, subtração, multiplicação e divisão."
   ]
  },
  {
   "cell_type": "code",
   "execution_count": null,
   "metadata": {},
   "outputs": [
    {
     "name": "stdout",
     "output_type": "stream",
     "text": [
      "Soma: 10\n",
      " Subtração: 6\n",
      " Multiplicação: 16 \n",
      " Divisão: 4.0\n"
     ]
    }
   ],
   "source": [
    "num = int(input('Digite o primeiro número: '))\n",
    "num2 = int(input('Digite o segundo número: '))\n",
    "\n",
    "print(f'Soma: {num+num2}\\n Subtração: {num-num2}\\n Multiplicação: {num * num2} \\n Divisão: {num/num2}' )"
   ]
  },
  {
   "cell_type": "markdown",
   "metadata": {},
   "source": [
    "16. Faça um programa que leia quatro números inteiros, calcule e mostre a soma desses números."
   ]
  },
  {
   "cell_type": "code",
   "execution_count": null,
   "metadata": {},
   "outputs": [
    {
     "name": "stdout",
     "output_type": "stream",
     "text": [
      "A soma dos 4 números é 15\n"
     ]
    }
   ],
   "source": [
    "soma=0\n",
    "\n",
    "for num in range(4):\n",
    "    num = int(input(f'Digite o {num+1}: '))\n",
    "    soma += num\n",
    "\n",
    "print(f'A soma dos 4 números é {soma}')"
   ]
  },
  {
   "cell_type": "markdown",
   "metadata": {},
   "source": [
    "17. Faça um programa que receba três notas, calcule e mostre a média aritmética."
   ]
  },
  {
   "cell_type": "code",
   "execution_count": null,
   "metadata": {},
   "outputs": [
    {
     "name": "stdout",
     "output_type": "stream",
     "text": [
      "A soma das 3 notas é 15.0\n"
     ]
    }
   ],
   "source": [
    "soma = 0 \n",
    "for nota in range(3):\n",
    "    nota = int(input(f'Digite a nota {nota+1}: '))\n",
    "    soma += nota\n",
    "\n",
    "print(f'A a média das 3 notas é {soma/3}')"
   ]
  },
  {
   "cell_type": "markdown",
   "metadata": {},
   "source": [
    "18. Faça um programa que receba três notas e seus respectivos pesos, calcule e mostre a média ponderada."
   ]
  },
  {
   "cell_type": "code",
   "execution_count": null,
   "metadata": {},
   "outputs": [
    {
     "name": "stdout",
     "output_type": "stream",
     "text": [
      "Média:  8.333333333333334\n"
     ]
    }
   ],
   "source": [
    "def media_ponderada():\n",
    "    \n",
    "    nota1 = float(input(\"Nota 1:\"))\n",
    "    peso1 = float(input(\"Peso 1:\"))\n",
    " \n",
    "    nota2 = float(input(\"Nota 2:\"))\n",
    "    peso2 = float(input(\"Peso 2:\"))\n",
    "    \n",
    "    nota3 = float(input(\"Nota 3:\"))\n",
    "    peso3 = float(input(\"Peso 3:\"))\n",
    " \n",
    "    # calcula média\n",
    "    media = (nota1*peso1 + nota2*peso2 + nota3*peso3) / (peso1+peso2+peso3)\n",
    " \n",
    "    # imprime a média\n",
    "    print(\"Média: \",media)\n",
    "        \n",
    "media_ponderada()\n",
    "    \n",
    "        \n",
    "        "
   ]
  },
  {
   "cell_type": "markdown",
   "metadata": {},
   "source": [
    "19. Faça um programa que receba o salário de um funcionário, calcule e mostre o novo salário, sabendo-se que este sofreu um aumento de 25%."
   ]
  },
  {
   "cell_type": "code",
   "execution_count": null,
   "metadata": {},
   "outputs": [
    {
     "data": {
      "text/plain": [
       "1875.0"
      ]
     },
     "execution_count": 2,
     "metadata": {},
     "output_type": "execute_result"
    }
   ],
   "source": [
    "def novo_salario_mais_25(salario):\n",
    "    return salario*1.25\n",
    "\n",
    "salario = float(input('Digite o salário: '))\n",
    "\n",
    "novo_salario_mais_25(salario)"
   ]
  },
  {
   "cell_type": "markdown",
   "metadata": {},
   "source": [
    "20. Faça um programa que receba o salário de um funcionário e o percentual de aumento, calcule e mostre o valor do aumento e o novo salário. "
   ]
  },
  {
   "cell_type": "code",
   "execution_count": null,
   "metadata": {},
   "outputs": [
    {
     "data": {
      "text/plain": [
       "1592.9984"
      ]
     },
     "execution_count": 7,
     "metadata": {},
     "output_type": "execute_result"
    }
   ],
   "source": [
    "def novo_salario(salario, aumento):\n",
    "    return salario+salario*(aumento/100)\n",
    "\n",
    "salario = float(input('Digite o salário: '))\n",
    "\n",
    "aumento = float(input('Digite o valor do aumento: '))\n",
    "\n",
    "novo_salario(salario, aumento)"
   ]
  },
  {
   "cell_type": "markdown",
   "metadata": {},
   "source": [
    "21.  Faça um programa que calcule e mostre a área de um triângulo. Sabe-se que: \n",
    "> Área = (base * altura) / 2."
   ]
  },
  {
   "cell_type": "code",
   "execution_count": null,
   "metadata": {},
   "outputs": [
    {
     "name": "stdout",
     "output_type": "stream",
     "text": [
      "Área do triângulo é 15.0\n"
     ]
    }
   ],
   "source": [
    "base = int(input('Digite a base: '))\n",
    "altura = int(input('Digite a altura: '))\n",
    "\n",
    "area = (base*altura)/2\n",
    "\n",
    "print(f'Área do triângulo é {area}')"
   ]
  },
  {
   "cell_type": "markdown",
   "metadata": {},
   "source": [
    "22. Escreva um programa que receba como entrada o raio de um círculo e imprima o diâmetro, a circunferência e a área. Para isso, utilize as fórmulas: diâmetro = 2r; circunferência = 2πr, área = πr²."
   ]
  },
  {
   "cell_type": "code",
   "execution_count": null,
   "metadata": {},
   "outputs": [
    {
     "name": "stdout",
     "output_type": "stream",
     "text": [
      "6\n",
      "18.84\n",
      "28.26\n"
     ]
    }
   ],
   "source": [
    "def calcula_diametro(raio):\n",
    "    return 2*raio\n",
    "\n",
    "def calcula_circuferencia(raio):\n",
    "    return 2*3.14*raio\n",
    "\n",
    "def calcula_area(raio):\n",
    "    return  3.14*(raio**2)\n",
    "\n",
    "raio=0\n",
    "\n",
    "raio = int(input('Digite o raio'))\n",
    "\n",
    "print(calcula_diametro(raio))\n",
    "\n",
    "print(calcula_circuferencia(raio))\n",
    "\n",
    "print(calcula_area(raio))"
   ]
  },
  {
   "cell_type": "markdown",
   "metadata": {},
   "source": [
    "23. Faça um programa que receba um número positivo e maior que zero, calcule e mostre:\n",
    "    1. o número digitado ao quadrado;\n",
    "    2. o número digitado ao cubo;\n",
    "    3. a raiz quadrada do número digitado."
   ]
  },
  {
   "cell_type": "code",
   "execution_count": null,
   "metadata": {},
   "outputs": [
    {
     "name": "stdout",
     "output_type": "stream",
     "text": [
      "Ao quadrado:  16\n",
      "Ao cubo:  64\n",
      "Raiz quadrado:  2.0\n"
     ]
    }
   ],
   "source": [
    "import math\n",
    "\n",
    "def operacao(numero):\n",
    "    print('Ao quadrado: ',numero**2)\n",
    "    print('Ao cubo: ', numero**3)\n",
    "    print('Raiz quadrado: ', math.sqrt(numero))\n",
    "    \n",
    "numero = int(input('Informe um número: '))\n",
    "\n",
    "operacao(numero)"
   ]
  },
  {
   "cell_type": "markdown",
   "metadata": {},
   "source": [
    "24. Faça um programa que receba dois números maiores que zero, calcule e mostre um elevado ao outro."
   ]
  },
  {
   "cell_type": "code",
   "execution_count": null,
   "metadata": {},
   "outputs": [
    {
     "name": "stdout",
     "output_type": "stream",
     "text": [
      "Potencia \n",
      " Digite o numero que você deseja elevar ao outro\n",
      "Digite novamente\n",
      "Digite novamente\n",
      "Digite novamente\n",
      "O valor dessa potencia é :  4\n"
     ]
    }
   ],
   "source": [
    "def elevacao(num1, num2):\n",
    "    return num1**num2\n",
    "\n",
    "def verificar(num1, num2):\n",
    "    while num1 < 0 or num2 < 0:\n",
    "        print('Digite novamente')\n",
    "        num1 = int(input('Digite novamente o primeiro número: '))\n",
    "        num2 = int(input('Digite novamente o segundo número: '))\n",
    "\n",
    "num1=0\n",
    "num2=0\n",
    "print('Potencia \\n Digite o numero que você deseja elevar ao outro')\n",
    "num1 = int(input('Digite o primeiro número: '))\n",
    "num2 = int(input('Digite o segundo número: '))\n",
    "\n",
    "verificar(num1, num2)\n",
    "elevacao(num1, num2)\n",
    "\n",
    "print('O valor dessa potencia é : ', elevacao(num1, num2))"
   ]
  },
  {
   "cell_type": "markdown",
   "metadata": {},
   "source": [
    "25. Sabe-se que: pé = 12 polegadas; 1 jarda = 3 pés e 1 milha = 1,760 jarda. Faça um programa que receba uma medida em pés, faça as conversões a seguir e mostre os resultados.\n",
    "    1. polegadas;\n",
    "    2. jardas;\n",
    "    3. milhas."
   ]
  },
  {
   "cell_type": "code",
   "execution_count": null,
   "metadata": {},
   "outputs": [
    {
     "name": "stdout",
     "output_type": "stream",
     "text": [
      "3 pe equivale a 36 polegadas, a 1.0 jardas e 1760.0 milha\n"
     ]
    }
   ],
   "source": [
    "def conversao_pe_para(pe):\n",
    "    polegadas = 12*pe\n",
    "    jarda = pe/3\n",
    "    milha = 1760*jarda\n",
    "    print(f'{pe} pe equivale a {polegadas} polegadas, a {jarda} jardas e {milha} milha')\n",
    "    \n",
    "pe=int(input(\"Informe o valor em pe(s)\"))\n",
    "\n",
    "conversao_pe_para(pe)"
   ]
  },
  {
   "cell_type": "markdown",
   "metadata": {},
   "source": [
    "26. Escreva um programa que receba como entrada um número de 5 dígitos, separe o número em dígitos individuais e os imprima separados por 3 espaços cada um. Por exemplo, se o usuário digitar 42339, o programa deverá imprimir: 4    2    3    3.   Dica: utilize as operações de divisão e módulo para extrair cada dígito do número."
   ]
  },
  {
   "cell_type": "code",
   "execution_count": null,
   "metadata": {},
   "outputs": [
    {
     "name": "stdout",
     "output_type": "stream",
     "text": [
      "5   7   9   4   "
     ]
    }
   ],
   "source": [
    "numeros = (input(\"Digite um numero de 5 digitos\"))\n",
    "\n",
    "qntNumeros = len(numero)\n",
    "\n",
    "# verifica e certifica a quantidade de numero do codigo\n",
    "while qntNumeros != 5:\n",
    "    numero = input(\n",
    "        'digite novamente (OBS: Deve conter exatamente 5 dígitos, se tiver menos, complete com 0): ')\n",
    "    qntNumeros = len(numero)\n",
    "\n",
    "for numero in numeros:\n",
    "    print(numero,'  ', end='')"
   ]
  },
  {
   "cell_type": "markdown",
   "metadata": {},
   "source": [
    "27.  A nota final de um estudante é calculada a partir de três notas atribuídas, respectivamente, a um trabalho\n",
    "de laboratório, a uma avaliação semestral e a um exame final. A média das três notas mencionadas\n",
    "obedece aos pesos a seguir:\n",
    "\n",
    "| Nota                    | Peso |\n",
    "|-------------------------|------|\n",
    "| Trabalho de Laboratório | 2    |\n",
    "| Avaliação Semestral     | 3    |\n",
    "| Exame Final             | 5    |\n",
    "\n",
    "\n",
    "Faça um programa que receba as três notas, calcule e mostre a média ponderada e o conceito que segue\n",
    "a tabela:\n",
    "\n",
    "| Média Ponderada        | Conceito |\n",
    "|------------------------|----------|\n",
    "| 8,00 <= Média <= 10,00 | A        |\n",
    "| 7,00 <= Média < 8,00   | B        |\n",
    "| 6,00 <= Média < 7,00   | C        |\n",
    "| 5,00 <= Média < 6,00   | D        |\n",
    "| 0,00 <= Média < 5,00   | E        |"
   ]
  },
  {
   "cell_type": "code",
   "execution_count": null,
   "metadata": {},
   "outputs": [
    {
     "name": "stdout",
     "output_type": "stream",
     "text": [
      "A nota da media ponderada: 6.8\n",
      "A nota de conceito: C\n"
     ]
    }
   ],
   "source": [
    "def conceito(media_ponderada):\n",
    "    \n",
    "    if media_ponderada >=8:\n",
    "        print('A nota de conceito: A')\n",
    "    elif media_ponderada >=7:\n",
    "        print('A nota de conceito: B')\n",
    "    elif media_ponderada >=6:\n",
    "        print('A nota de conceito: C')\n",
    "    elif media_ponderada >=5:\n",
    "        print('A nota de conceito: D')\n",
    "    else:\n",
    "        print('A nota de conceito: E')\n",
    "    \n",
    "\n",
    "        \n",
    "trabalho_laboratorio =2\n",
    "avaliacao_semenstral=3\n",
    "exame_final=5\n",
    "\n",
    "nota_trabalho_laboratorio = int(input(\"Informe a nota do trabalho de laboratorio: \"))\n",
    "nota_avaliacao_semenstral =int(input(\"Informe a nota da avaliação semenstral: \"))\n",
    "nota_exame_final =int(input(\"Informe a nota do trabalho do exame final: \"))\n",
    "\n",
    "media_ponderada = (nota_trabalho_laboratorio * trabalho_laboratorio + nota_avaliacao_semenstral*avaliacao_semenstral+nota_exame_final*exame_final)/10\n",
    "\n",
    "print('A nota da media ponderada:', media_ponderada)\n",
    "conceito(media_ponderada)"
   ]
  },
  {
   "cell_type": "markdown",
   "metadata": {},
   "source": [
    "28. Faça um programa que receba três notas de um aluno, calcule e mostre a média aritmética e a mensagem constante na tabela a seguir. \n",
    "\n",
    "| Média                  | Situação       |\n",
    "|------------------------|----------------|\n",
    "| 7,00 <= Média <= 10,00 | Aprovado       |\n",
    "| 3,00 <= Média < 7,00   | Exame Especial |\n",
    "| 0,00 <= Média < 3,00   | Reprovado      |"
   ]
  },
  {
   "cell_type": "code",
   "execution_count": null,
   "metadata": {},
   "outputs": [
    {
     "name": "stdout",
     "output_type": "stream",
     "text": [
      "0\n"
     ]
    }
   ],
   "source": [
    "def resultado(nota_final):\n",
    "    if nota_final >= 7:\n",
    "        print('Aprovado')\n",
    "    elif nota_final >= 3:\n",
    "        print('Exame Especial')\n",
    "    else:\n",
    "        print('Reprovado')\n",
    "        \n",
    "numeronota = 0\n",
    "nota_soma = 0\n",
    "notaavaliacao = 0\n",
    "\n",
    "for nota in range(3):\n",
    "        nota = int(input(f\"Digite a nota {numeronota+1}: \"))\n",
    "        nota_soma += nota\n",
    "        numeronota += 1\n",
    "        nota_final = nota_soma/3        \n",
    "        \n",
    "print('A nota desse aluno é: ', round(nota_final,2))\n",
    "resultado(nota_final)\n"
   ]
  },
  {
   "cell_type": "markdown",
   "metadata": {},
   "source": [
    "29. Faça um programa para resolver equações do 2º grau.\n",
    "\n",
    "$$\n",
    "a^{2} + bx + c = 0\n",
    "$$\n",
    "\n",
    "\n",
    "Onde x é uma variável, sendo a, b e c constantes, com a ≠ 0 \n",
    "\n",
    "\n",
    "$$\n",
    "\\Delta = b^{2} - 4ac\n",
    "$$\n",
    "\n",
    "$$\n",
    "\\Delta < 0 \\rightarrow não \\: existe  \\: raiz  \\: real\n",
    "$$\n",
    "\n",
    "$$\n",
    "\\Delta = 0 \\rightarrow  existe  \\: raiz  \\: real\n",
    "$$\n",
    "\n",
    "$$\n",
    "x = \\frac{-b}{2a}\n",
    "$$\n",
    "\n",
    "\n",
    "\n",
    "$$\n",
    "\\Delta > 0 \\rightarrow existem \\: duas  \\: raizes  \\: reais\n",
    "$$\n",
    "\n",
    "\n",
    "$$\n",
    "x_1 = \\frac{-b \\: + \\: \\sqrt{\\Delta } }{2a}\n",
    "$$\n",
    "\n",
    "$$\n",
    "x_2 = \\frac{-b \\: - \\: \\sqrt{\\Delta } }{2a}\n",
    "$$"
   ]
  },
  {
   "cell_type": "code",
   "execution_count": null,
   "metadata": {},
   "outputs": [],
   "source": [
    "from math import sqrt\n",
    " \n",
    "def testandoNum(numero): \n",
    "    while True: \n",
    "        try: \n",
    "            n = float(input(numero))\n",
    "        except (ValueError, TypeError):  \n",
    "            print(\"Você não digitou um numero\")\n",
    "            continue \n",
    "        else:\n",
    "            return n\n",
    "\n",
    "def segGrau(a, b, c): \n",
    "   delta = b*b - 4 * a * c\n",
    "\n",
    "   if delta < 0:\n",
    "       print('Delta é negativo, logo x não pertence aos números reais!')\n",
    "   else:\n",
    "       x1 = (-b + sqrt(delta)) / (2*a)\n",
    "\n",
    "       x2 = (-b - sqrt(delta)) / (2*a)\n",
    "       print('O valor de X\\' é: ', x1, 'O valor de X\\'\\' é: ', x2)\n",
    "\n",
    "num1 = testandoNum('Digite O valor de a: ')\n",
    "num2 = testandoNum('Digite o valor de b: ')\n",
    "num3 = testandoNum('Digite o valor de c: ')\n",
    "\n",
    "segGrau(num1, num2, num3)"
   ]
  },
  {
   "cell_type": "markdown",
   "metadata": {},
   "source": [
    "30. Faça um programa que receba vários números, calcule e mostre:\n",
    "\n",
    "    - A soma dos números digitados;\n",
    "    - A quantidade de números digitados;\n",
    "    - A média dos números digitados;\n",
    "    - O maior número digitado;\n",
    "    - O menor número digitado;\n",
    "    - A média dos números pares;\n",
    "    - A porcentagem dos números ímpares entre todos os números digitados.\n",
    "\n",
    "Finalize a entrada de dados com a digitação do número 0."
   ]
  },
  {
   "cell_type": "code",
   "execution_count": null,
   "metadata": {},
   "outputs": [
    {
     "ename": "ValueError",
     "evalue": "invalid literal for int() with base 10: ''",
     "output_type": "error",
     "traceback": [
      "\u001b[1;31m---------------------------------------------------------------------------\u001b[0m",
      "\u001b[1;31mValueError\u001b[0m                                Traceback (most recent call last)",
      "\u001b[1;32mc:\\Users\\Caiong22\\Documents\\ADS\\ADS - 5B\\2. Sistemas distribuidos mobile Pratica\\Arquivos_git_sdmp\\analise-dados\\Python\\exercicios-python.ipynb Cell 61'\u001b[0m in \u001b[0;36m<cell line: 28>\u001b[1;34m()\u001b[0m\n\u001b[0;32m     <a href='vscode-notebook-cell:/c%3A/Users/Caiong22/Documents/ADS/ADS%20-%205B/2.%20Sistemas%20distribuidos%20mobile%20Pratica/Arquivos_git_sdmp/analise-dados/Python/exercicios-python.ipynb#ch0000060?line=23'>24</a>\u001b[0m         opcao\u001b[39m=\u001b[39m(\u001b[39minput\u001b[39m(\u001b[39m'\u001b[39m\u001b[39mDeseja digitar um numero: \u001b[39m\u001b[39m'\u001b[39m)) \n\u001b[0;32m     <a href='vscode-notebook-cell:/c%3A/Users/Caiong22/Documents/ADS/ADS%20-%205B/2.%20Sistemas%20distribuidos%20mobile%20Pratica/Arquivos_git_sdmp/analise-dados/Python/exercicios-python.ipynb#ch0000060?line=24'>25</a>\u001b[0m     \u001b[39mprint\u001b[39m(\u001b[39mf\u001b[39m\u001b[39m'\u001b[39m\u001b[39mResultado dos números \u001b[39m\u001b[39m\\n\u001b[39;00m\u001b[39m Soma: \u001b[39m\u001b[39m{\u001b[39;00msoma\u001b[39m}\u001b[39;00m\u001b[39m \u001b[39m\u001b[39m\\n\u001b[39;00m\u001b[39m Quantidade de numeros: \u001b[39m\u001b[39m{\u001b[39;00mcont\u001b[39m}\u001b[39;00m\u001b[39m \u001b[39m\u001b[39m\\n\u001b[39;00m\u001b[39m Media dos números: \u001b[39m\u001b[39m{\u001b[39;00mmedia\u001b[39m}\u001b[39;00m\u001b[39m \u001b[39m\u001b[39m\\n\u001b[39;00m\u001b[39m O maior numero: \u001b[39m\u001b[39m{\u001b[39;00mmaior\u001b[39m}\u001b[39;00m\u001b[39m O menor número \u001b[39m\u001b[39m{\u001b[39;00mmenor\u001b[39m}\u001b[39;00m\u001b[39m \u001b[39m\u001b[39m\\n\u001b[39;00m\u001b[39m A médias dos números pares dos pares: \u001b[39m\u001b[39m{\u001b[39;00mmedia_pares\u001b[39m}\u001b[39;00m\u001b[39m \u001b[39m\u001b[39m\\n\u001b[39;00m\u001b[39m A porcentagem dos números impares digitados: \u001b[39m\u001b[39m{\u001b[39;00mporcentagem_dos_impares\u001b[39m}\u001b[39;00m\u001b[39m'\u001b[39m)\n\u001b[1;32m---> <a href='vscode-notebook-cell:/c%3A/Users/Caiong22/Documents/ADS/ADS%20-%205B/2.%20Sistemas%20distribuidos%20mobile%20Pratica/Arquivos_git_sdmp/analise-dados/Python/exercicios-python.ipynb#ch0000060?line=27'>28</a>\u001b[0m colecao_numeros()\n",
      "\u001b[1;32mc:\\Users\\Caiong22\\Documents\\ADS\\ADS - 5B\\2. Sistemas distribuidos mobile Pratica\\Arquivos_git_sdmp\\analise-dados\\Python\\exercicios-python.ipynb Cell 61'\u001b[0m in \u001b[0;36mcolecao_numeros\u001b[1;34m()\u001b[0m\n\u001b[0;32m      <a href='vscode-notebook-cell:/c%3A/Users/Caiong22/Documents/ADS/ADS%20-%205B/2.%20Sistemas%20distribuidos%20mobile%20Pratica/Arquivos_git_sdmp/analise-dados/Python/exercicios-python.ipynb#ch0000060?line=7'>8</a>\u001b[0m media_pares\u001b[39m=\u001b[39m\u001b[39m0\u001b[39m\n\u001b[0;32m      <a href='vscode-notebook-cell:/c%3A/Users/Caiong22/Documents/ADS/ADS%20-%205B/2.%20Sistemas%20distribuidos%20mobile%20Pratica/Arquivos_git_sdmp/analise-dados/Python/exercicios-python.ipynb#ch0000060?line=8'>9</a>\u001b[0m porcentagem_dos_impares\u001b[39m=\u001b[39m\u001b[39m0\u001b[39m\n\u001b[1;32m---> <a href='vscode-notebook-cell:/c%3A/Users/Caiong22/Documents/ADS/ADS%20-%205B/2.%20Sistemas%20distribuidos%20mobile%20Pratica/Arquivos_git_sdmp/analise-dados/Python/exercicios-python.ipynb#ch0000060?line=10'>11</a>\u001b[0m opcao\u001b[39m=\u001b[39m\u001b[39mint\u001b[39;49m(\u001b[39minput\u001b[39;49m(\u001b[39m'\u001b[39;49m\u001b[39mDeseja digitar um numero: \u001b[39;49m\u001b[39m'\u001b[39;49m)) \n\u001b[0;32m     <a href='vscode-notebook-cell:/c%3A/Users/Caiong22/Documents/ADS/ADS%20-%205B/2.%20Sistemas%20distribuidos%20mobile%20Pratica/Arquivos_git_sdmp/analise-dados/Python/exercicios-python.ipynb#ch0000060?line=11'>12</a>\u001b[0m \u001b[39mwhile\u001b[39;00m opcao \u001b[39m!=\u001b[39m \u001b[39m0\u001b[39m: \n\u001b[0;32m     <a href='vscode-notebook-cell:/c%3A/Users/Caiong22/Documents/ADS/ADS%20-%205B/2.%20Sistemas%20distribuidos%20mobile%20Pratica/Arquivos_git_sdmp/analise-dados/Python/exercicios-python.ipynb#ch0000060?line=12'>13</a>\u001b[0m     opcao\u001b[39m=\u001b[39m\u001b[39mint\u001b[39m(\u001b[39minput\u001b[39m(\u001b[39m'\u001b[39m\u001b[39mDeseja digitar um numero: \u001b[39m\u001b[39m'\u001b[39m)) \n",
      "\u001b[1;31mValueError\u001b[0m: invalid literal for int() with base 10: ''"
     ]
    }
   ],
   "source": [
    "def colecao_numeros():\n",
    "    opcao=1\n",
    "    soma=0\n",
    "    cont=0\n",
    "    media=0\n",
    "    maior=0\n",
    "    menor=0\n",
    "    media_pares=0\n",
    "    porcentagem_dos_impares=0\n",
    "    \n",
    "    opcao=int(input('Deseja digitar um numero: ')) \n",
    "    while opcao != 0: \n",
    "        opcao=int(input('Deseja digitar um numero: ')) \n",
    "        numero=int(input('Digite um numero: '))          \n",
    "        soma+=numero\n",
    "        cont+=1\n",
    "        media=soma/cont\n",
    "        \n",
    "        \n",
    "        \n",
    "        \n",
    "        \n",
    "        \n",
    "        opcao=(input('Deseja digitar um numero: ')) \n",
    "    print(f'Resultado dos números \\n Soma: {soma} \\n Quantidade de numeros: {cont} \\n Media dos números: {media} \\n O maior numero: {maior} O menor número {menor} \\n A médias dos números pares dos pares: {media_pares} \\n A porcentagem dos números impares digitados: {porcentagem_dos_impares}')\n",
    "    \n",
    "\n",
    "colecao_numeros()\n",
    "        khkjhjkljhkkjhkjhjkhjkhkj\n",
    "        "
   ]
  },
  {
   "cell_type": "markdown",
   "metadata": {},
   "source": [
    "31. Foi realizada uma pesquisa sobre algumas características físicas dos habitantes de uma região. Foram coletados os seguintes dados de cada habitante: sexo, cor dos olhos (A — azuis; ou C — castanhos), cor dos cabelos (L — louros; P — pretos; ou C — castanhos) e idade. Implemente os seguintes métodos:\n",
    "\n",
    "    1. `leia_dados()`: leia esses dados, armazene e retorne os dados em uma lista;\n",
    "    2. `media_idades(dados)`: calcula e retorne a média de idade das pessoas com olhos castanhos e cabelos pretos;\n",
    "    3. `maior_idade(dados)`: determina e retorne a maior idade entre os habitantes;\n",
    "    4. `frequencia_individuos(dados)`: calcula e retorna a quantidade de indivíduos do sexo feminino com idade entre 18 e 35 anos (inclusive) e que tenham olhos azuis e cabelos louros."
   ]
  },
  {
   "cell_type": "code",
   "execution_count": 1,
   "metadata": {},
   "outputs": [
    {
     "ename": "TypeError",
     "evalue": "'>=' not supported between instances of 'str' and 'int'",
     "output_type": "error",
     "traceback": [
      "\u001b[0;31m---------------------------------------------------------------------------\u001b[0m",
      "\u001b[0;31mTypeError\u001b[0m                                 Traceback (most recent call last)",
      "Input \u001b[0;32mIn [1]\u001b[0m, in \u001b[0;36m<cell line: 33>\u001b[0;34m()\u001b[0m\n\u001b[1;32m     29\u001b[0m       porcentagemFeminina \u001b[38;5;241m=\u001b[39m (\u001b[38;5;241m100\u001b[39m \u001b[38;5;241m*\u001b[39m contPorcentagem)\u001b[38;5;241m/\u001b[39mcont\n\u001b[1;32m     30\u001b[0m       \u001b[38;5;28mprint\u001b[39m(\u001b[38;5;124m\"\u001b[39m\u001b[38;5;124mPorcentagem feminina com olhos verdes, cabelos louros que estão entre 18 e 35 anos: \u001b[39m\u001b[38;5;132;01m%.2f\u001b[39;00m\u001b[38;5;130;01m\\n\u001b[39;00m\u001b[38;5;124m\"\u001b[39m, porcentagemFeminina);  \n\u001b[0;32m---> 33\u001b[0m \u001b[43mtestandoNum\u001b[49m\u001b[43m(\u001b[49m\u001b[43m)\u001b[49m\n",
      "Input \u001b[0;32mIn [1]\u001b[0m, in \u001b[0;36mtestandoNum\u001b[0;34m()\u001b[0m\n\u001b[1;32m     19\u001b[0m corCabelos \u001b[38;5;241m=\u001b[39m \u001b[38;5;28minput\u001b[39m(\u001b[38;5;124m\"\u001b[39m\u001b[38;5;124mInforme a cor dos cabelos:\u001b[39m\u001b[38;5;130;01m\\n\u001b[39;00m\u001b[38;5;124m\"\u001b[39m)\n\u001b[1;32m     20\u001b[0m idade \u001b[38;5;241m=\u001b[39m \u001b[38;5;28minput\u001b[39m(\u001b[38;5;124m\"\u001b[39m\u001b[38;5;124mInforme a idade:\u001b[39m\u001b[38;5;130;01m\\n\u001b[39;00m\u001b[38;5;124m\"\u001b[39m)\n\u001b[0;32m---> 21\u001b[0m \u001b[38;5;28;01mif\u001b[39;00m (sexo \u001b[38;5;241m==\u001b[39m \u001b[38;5;124m\"\u001b[39m\u001b[38;5;124mfeminino\u001b[39m\u001b[38;5;124m\"\u001b[39m) \u001b[38;5;129;01mand\u001b[39;00m ((\u001b[43midade\u001b[49m\u001b[43m \u001b[49m\u001b[38;5;241;43m>\u001b[39;49m\u001b[38;5;241;43m=\u001b[39;49m\u001b[43m \u001b[49m\u001b[38;5;241;43m18\u001b[39;49m) \u001b[38;5;129;01mand\u001b[39;00m (idade \u001b[38;5;241m<\u001b[39m\u001b[38;5;241m=\u001b[39m \u001b[38;5;241m35\u001b[39m)) \u001b[38;5;129;01mand\u001b[39;00m  (corOlhos \u001b[38;5;241m==\u001b[39m \u001b[38;5;124m\"\u001b[39m\u001b[38;5;124mverdes\u001b[39m\u001b[38;5;124m\"\u001b[39m) \u001b[38;5;129;01mand\u001b[39;00m (corCabelos \u001b[38;5;241m==\u001b[39m \u001b[38;5;124m\"\u001b[39m\u001b[38;5;124mlouros\u001b[39m\u001b[38;5;124m\"\u001b[39m):\n\u001b[1;32m     22\u001b[0m     contPorcentagem \u001b[38;5;241m+\u001b[39m\u001b[38;5;241m=\u001b[39m \u001b[38;5;241m1\u001b[39m \n\u001b[1;32m     24\u001b[0m \u001b[38;5;28;01mif\u001b[39;00m (idade \u001b[38;5;241m>\u001b[39m maiorIdade):\n",
      "\u001b[0;31mTypeError\u001b[0m: '>=' not supported between instances of 'str' and 'int'"
     ]
    }
   ],
   "source": [
    "def testandoNum(): \n",
    "\n",
    "    porcentagemFeminina = 0\n",
    "    idade = 0\n",
    "    maiorIdade = 0\n",
    "    contPorcentagem = 0\n",
    "    cont = 0\n",
    "    sexo = \"\"\n",
    "    corOlhos = \"\"\n",
    "    corCabelos  = \"\"\n",
    "    contPorcentagem = 0\n",
    "    maiorIdade = 0\n",
    "    cont = 0\n",
    "\n",
    "    while True:\n",
    "        cont += 1\n",
    "        sexo = input(\"Informe o sexo:\\n\")\n",
    "        corOlhos = input(\"Informe a cor dos olhos:\\n\")\n",
    "        corCabelos = input(\"Informe a cor dos cabelos:\\n\")\n",
    "        idade = input(\"Informe a idade:\\n\")\n",
    "        if (sexo == \"feminino\") and ((idade >= 18) and (idade <= 35)) and  (corOlhos == \"verdes\") and (corCabelos == \"louros\"):\n",
    "            contPorcentagem += 1 \n",
    "\n",
    "        if (idade > maiorIdade):\n",
    "            maiorIdade = idade\n",
    "        \n",
    "    while (idade != -1):\n",
    "      print(\"Maior idade: %d\\n\", maiorIdade)\n",
    "      porcentagemFeminina = (100 * contPorcentagem)/cont\n",
    "      print(\"Porcentagem feminina com olhos verdes, cabelos louros que estão entre 18 e 35 anos: %.2f\\n\", porcentagemFeminina);  \n",
    "      \n",
    "      \n",
    "testandoNum()"
   ]
  },
  {
   "cell_type": "markdown",
   "metadata": {},
   "source": [
    "32. Faça o método `analisa_numeros(numeros)` que receba uma lista de números como parâmetro, calcule e mostre:\n",
    "\n",
    "    1. A Soma dos números;\n",
    "    2. A quantidade de números;\n",
    "    3. A média dos números;\n",
    "    4. O maior número;\n",
    "    5. O menor número;\n",
    "    6. A média dos números pares;\n",
    "    7. A porcentagem dos números ímpares entre todos os números da lista."
   ]
  },
  {
   "cell_type": "code",
   "execution_count": 16,
   "metadata": {},
   "outputs": [
    {
     "name": "stdout",
     "output_type": "stream",
     "text": [
      "32\n",
      "Quantidade: 6\n",
      "Media:  5.333333333333333\n",
      "Maior valor: 9\n",
      "Menor valor:  0\n",
      "Media dos números pares:  6.0\n",
      "Porcentagem de numeros impares na lista:  33.333333333333336 %\n"
     ]
    }
   ],
   "source": [
    "def analisa_numeros(numeros):\n",
    "    soma_das_notas = 0\n",
    "    for nota in numeros:\n",
    "        soma_das_notas += nota\n",
    "    print(soma_das_notas)\n",
    "    \n",
    "    # conta a quantidade de numeros\n",
    "    cont = 0\n",
    "    for nota in numeros:\n",
    "        cont += 1\n",
    "    print('Quantidade:', cont)\n",
    "    \n",
    "    \n",
    "    # faz a media das notas\n",
    "    soma_das_notas = 0\n",
    "    cont = 0\n",
    "    for nota in numeros:\n",
    "        soma_das_notas += nota\n",
    "        cont += 1\n",
    "    print('Media: ', soma_das_notas/cont)\n",
    "    \n",
    "    # maior valor    \n",
    "    maior_valor = max(numeros)\n",
    "    print('Maior valor:', maior_valor)    \n",
    "    \n",
    "    # menor valor\n",
    "    menor_valor = min(numeros)\n",
    "    print('Menor valor: ', menor_valor)\n",
    "    \n",
    "    # media dos paresnota = 0\n",
    "    media_numpares = 0\n",
    "    conta_pares = 0\n",
    "    qnt_pares = 0\n",
    "    for nota in numeros:\n",
    "        resto = nota % 2\n",
    "    if resto == 0:\n",
    "        qnt_pares += 1\n",
    "        conta_pares += nota\n",
    "        media_numpares = conta_pares / qnt_pares\n",
    "    print('Media dos números pares: ', round(media_numpares, 2))\n",
    "    \n",
    "    # media dos numeros impares\n",
    "    cont_pares = 0\n",
    "    cont_impar = 0\n",
    "    cont = 0\n",
    "    for nota in numeros:\n",
    "        cont += 1\n",
    "        resto = nota % 2\n",
    "        if resto == 1:\n",
    "            cont_impar += 1\n",
    "\n",
    "    print('Porcentagem de numeros impares na lista: ', cont_impar*100/cont, '%')\n",
    "  \n",
    "numeros = [0,2,9,8,7,6]\n",
    "analisa_numeros(numeros)"
   ]
  },
  {
   "cell_type": "markdown",
   "metadata": {},
   "source": [
    "33. Uma empresa quer transmitir dados pelo telefone, mas está preocupada com a interceptação telefônica. Todos os seus dados são transmitidos  como inteiros de quatro dígitos. Ela pediu para que você escreva um programa que criptografe seus dados, para que eles possam ser transmitidos com mais segurança. Implemente a função `criptogra(numero)` que receba como parâmetro um número inteiro de quatro dígitos e criptografe-o da seguinte forma: \n",
    "\n",
    "    * Substitua cada um dos dígitos do número usando a seguinte fórmula: `(digito +  7) módulo 10`; \n",
    "    * Após a substituição, troque o primeiro dígito pelo terceiro e troque o segundo dígito pelo quarto;\n",
    "    * Retorne o número inteiro criptografado."
   ]
  },
  {
   "cell_type": "code",
   "execution_count": 17,
   "metadata": {},
   "outputs": [],
   "source": [
    "#No jupter pode ocorre um problema na variavel (numero), mas se copiarmos para uma IDE ou um editor de texto esse erro sai\n",
    "numero = input('Digite o código: (OBS: O código deve ter 4 números)')\n",
    "\n",
    "# conta quantos numeros tem o codigo\n",
    "qntNumeros = len(numero)\n",
    "\n",
    "# verifica e certifica a quantidade de numero do codigo\n",
    "while qntNumeros != 4:\n",
    "    numero = input(\n",
    "        'digite novamente (OBS: Deve conter exatamente 4 dígitos, se tiver menos, complete com 0): ')\n",
    "    qntNumeros = len(numero)\n",
    "\n",
    "\n",
    "for i in range(4):\n",
    "\n",
    "    mod = (int(numero[i])+7) % 10\n",
    "    \n",
    "    \n",
    "digito1 = (int(numero[2])+7) % 10\n",
    "digito2=(int(numero[3])+7)%10\n",
    "digito3=(int(numero[0])+7) % 10\n",
    "digito4=(int(numero[1])+7) % 10\n",
    "    \n",
    "print(f'{digito1}{digito2}{digito3}{digito4}')"
   ]
  }
 ],
 "metadata": {
  "interpreter": {
   "hash": "aee8b7b246df8f9039afb4144a1f6fd8d2ca17a180786b69acc140d282b71a49"
  },
  "kernelspec": {
   "display_name": "Python 3.9.6 64-bit",
   "name": "python3"
  },
  "language_info": {
   "codemirror_mode": {
    "name": "ipython",
    "version": 3
   },
   "file_extension": ".py",
   "mimetype": "text/x-python",
   "name": "python",
   "nbconvert_exporter": "python",
   "pygments_lexer": "ipython3",
   "version": "3.9.6"
  }
 },
 "nbformat": 4,
 "nbformat_minor": 4
}